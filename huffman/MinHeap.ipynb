{
  "cells": [
    {
      "cell_type": "markdown",
      "metadata": {
        "id": "view-in-github",
        "colab_type": "text"
      },
      "source": [
        "<a href=\"https://colab.research.google.com/github/SergioCSC/sokol/blob/master/huffman/MinHeap.ipynb\" target=\"_parent\"><img src=\"https://colab.research.google.com/assets/colab-badge.svg\" alt=\"Open In Colab\"/></a>"
      ]
    },
    {
      "cell_type": "code",
      "execution_count": 3,
      "id": "6b27dacb",
      "metadata": {
        "colab": {
          "base_uri": "https://localhost:8080/",
          "height": 570
        },
        "id": "6b27dacb",
        "outputId": "0c4b0b3b-1c2a-45df-fe85-d3ac12a85b7b"
      },
      "outputs": [
        {
          "output_type": "stream",
          "name": "stdout",
          "text": [
            "22 57 11 59 8 1 31 71 100 16 "
          ]
        },
        {
          "output_type": "display_data",
          "data": {
            "text/plain": [
              "<Figure size 640x480 with 1 Axes>"
            ],
            "image/png": "[encoded data removed]"
          },
          "metadata": {}
        },
        {
          "output_type": "stream",
          "name": "stdout",
          "text": [
            "\n",
            "1 8 11 16 22 31 57 59 71 100 "
          ]
        }
      ],
      "source": [
        "from dataclasses import dataclass\n",
        "\n",
        "\n",
        "@dataclass\n",
        "class MinHeap:\n",
        "    def __init__(self):\n",
        "        self.a = []\n",
        "\n",
        "    @staticmethod\n",
        "    def _get_parent_index(index: int) -> int:\n",
        "        \"\"\"Get the index of the parent node\"\"\"\n",
        "        return (index - 1) // 2\n",
        "\n",
        "    @staticmethod\n",
        "    def _get_left_child_index(index: int) -> int:\n",
        "        \"\"\"Get the index of the left child node\"\"\"\n",
        "        return 2 * index + 1\n",
        "\n",
        "    @staticmethod\n",
        "    def _get_right_child_index(index: int) -> int:\n",
        "        \"\"\"Get the index of the right child node\"\"\"\n",
        "        return 2 * index + 2\n",
        "\n",
        "    def size(self) -> int:\n",
        "        \"\"\"Return the size of the heap\"\"\"\n",
        "        return len(self.a)\n",
        "\n",
        "    def push(self, value):\n",
        "        self.a.append(value)\n",
        "        self._heapify_up(len(self.a) - 1)\n",
        "\n",
        "    def _heapify_up(self, index: int):\n",
        "        \"\"\"Heapify up the value at the given index\"\"\"\n",
        "        \"\"\"Move the value at the given index up to maintain the heap property\"\"\"\n",
        "        if index < 0 or index >= len(self.a):\n",
        "            return  # Invalid index\n",
        "        if index == 0:  # If it is the root, no need to heapify up\n",
        "            return\n",
        "        parent_index = self._get_parent_index(index)\n",
        "        if self.a[index] < self.a[parent_index]:\n",
        "            self.a[index], self.a[parent_index] = self.a[parent_index], self.a[index]\n",
        "            self._heapify_up(parent_index)\n",
        "\n",
        "    def pop(self):\n",
        "        \"\"\"Extract the minimum value from the heap\"\"\"\n",
        "        if len(self.a) == 0:\n",
        "            return None\n",
        "        if len(self.a) == 1:\n",
        "            return self.a.pop()\n",
        "\n",
        "        min_value = self.a[0]\n",
        "        self.a[0] = self.a.pop()\n",
        "        self._heapify_down(0)\n",
        "        return min_value\n",
        "\n",
        "    def _heapify_down(self, index: int):\n",
        "        \"\"\"Heapify down the value at the given index\"\"\"\n",
        "        if index < 0 or index >= len(self.a):\n",
        "            return\n",
        "        left_child_index = self._get_left_child_index(index)\n",
        "        right_child_index = self._get_right_child_index(index)\n",
        "        if left_child_index < len(self.a) and right_child_index < len(self.a):\n",
        "            # Both children exist, find the smaller one\n",
        "            # Compare the left and right children to find the smaller one\n",
        "            left_child_value = self.a[left_child_index]\n",
        "            right_child_value = self.a[right_child_index]\n",
        "            min_child_index = left_child_index if left_child_value < right_child_value else right_child_index\n",
        "        elif left_child_index < len(self.a):\n",
        "            # Only the left child exists\n",
        "            min_child_index = left_child_index\n",
        "        elif right_child_index < len(self.a):\n",
        "            # Only the right child exists\n",
        "            min_child_index = right_child_index\n",
        "        else:\n",
        "            # No children exist\n",
        "            return\n",
        "        if self.a[min_child_index] < self.a[index]:\n",
        "            self.a[index], self.a[min_child_index] = self.a[min_child_index], self.a[index]\n",
        "            self._heapify_down(min_child_index)\n",
        "\n",
        "\n",
        "    def node2str(self, index: int) -> str:\n",
        "        return f'{index}\\n{self.a[index]}'\n",
        "\n",
        "    def get_adjacency_dict(self, node_index) -> dict[str, tuple[str]]:\n",
        "        \"\"\"Recursively build an adjacency dictionary for visualization.\"\"\"\n",
        "        if node_index >= len(self.a):\n",
        "            return {}\n",
        "\n",
        "        left_child_index = MinHeap._get_left_child_index(node_index)\n",
        "        if left_child_index >= len(self.a):\n",
        "            return {}\n",
        "\n",
        "        right_child_index = MinHeap._get_right_child_index(node_index)\n",
        "\n",
        "        if right_child_index >= len(self.a):\n",
        "            # If only the left child exists, include it in the adjacency dictionary\n",
        "            my = {self.node2str(node_index): ((self.node2str(left_child_index),))}\n",
        "        else:\n",
        "            # If both children exist, include both in the adjacency dictionary\n",
        "            my = {self.node2str(node_index): (self.node2str(left_child_index), self.node2str(right_child_index))}\n",
        "\n",
        "        # Recursively build the adjacency dictionary for the left and right children\n",
        "        return my | self.get_adjacency_dict(left_child_index) | self.get_adjacency_dict(right_child_index)\n",
        "\n",
        "\n",
        "import matplotlib.pyplot as plt\n",
        "import networkx as nx\n",
        "\n",
        "def draw_tree(adjacency_dict: dict[str, tuple[str]]):\n",
        "    \"\"\"Draw the Huffman tree using networkx and matplotlib.\"\"\"\n",
        "    H = nx.Graph(adjacency_dict)\n",
        "    pos=nx.nx_pydot.graphviz_layout(H, prog='dot')\n",
        "    # pos = nx.bfs_layout(H, 0, align='horizontal')\n",
        "    nx.draw(H, pos=pos, arrows=True, with_labels=True)\n",
        "    plt.show()\n",
        "\n",
        "\n",
        "\n",
        "import random\n",
        "def generate_random_array(size: int, min_value: int = 1, max_value: int = 100) -> list:\n",
        "    \"\"\"Generate a random array of integers\"\"\"\n",
        "    return [random.randint(min_value, max_value) for _ in range(size)]\n",
        "\n",
        "arr = generate_random_array(10)\n",
        "min_heap = MinHeap()\n",
        "for value in arr:\n",
        "    print(value, end=' ')\n",
        "    min_heap.push(value)\n",
        "\n",
        "adjacency_dict = min_heap.get_adjacency_dict(0)\n",
        "# print(f\"\\nAdjacency dictionary: {adjacency_dict}\")\n",
        "draw_tree(adjacency_dict)\n",
        "\n",
        "print()\n",
        "while value := min_heap.pop():\n",
        "    print(value, end=' ')"
      ]
    }
  ],
  "metadata": {
    "kernelspec": {
      "display_name": "win_env",
      "language": "python",
      "name": "python3"
    },
    "language_info": {
      "codemirror_mode": {
        "name": "ipython",
        "version": 3
      },
      "file_extension": ".py",
      "mimetype": "text/x-python",
      "name": "python",
      "nbconvert_exporter": "python",
      "pygments_lexer": "ipython3",
      "version": "3.13.1"
    },
    "colab": {
      "provenance": [],
      "include_colab_link": true
    }
  },
  "nbformat": 4,
  "nbformat_minor": 5
}