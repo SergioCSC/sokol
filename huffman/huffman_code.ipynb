{
 "cells": [
  {
   "cell_type": "code",
   "execution_count": 32,
   "metadata": {},
   "outputs": [],
   "source": [
    "\"\"\"Huffman code implementation\"\"\"\n",
    "\n",
    "from dataclasses import dataclass, field\n",
    "\n",
    "@dataclass(order=True)\n",
    "class Node:\n",
    "    frequency: int\n",
    "    letters: set[str] = field(compare=False)\n",
    "    left: 'Node' = field(compare=False)\n",
    "    right: 'Node' = field(compare=False)\n",
    "\n",
    "    def __str__(self) -> str:\n",
    "        return f\"{self.frequency}\\n{str(self.letters)}\"\n",
    "    \n",
    "    def is_leaf(self) -> bool:\n",
    "        return not (self.left and self.right)\n",
    "    \n",
    "    @staticmethod\n",
    "    def get_adjacency_dict(node: 'Node') -> dict[str, tuple[str]]:\n",
    "        \"\"\"Recursively build an adjacency dictionary of the Huffman tree for visualization.\"\"\"\n",
    "        if node.is_leaf():\n",
    "            return {}\n",
    "        \n",
    "        my = {str(node): (str(node.left), str(node.right))}\n",
    "        return my | Node.get_adjacency_dict(node.left) | Node.get_adjacency_dict(node.right)"
   ]
  },
  {
   "cell_type": "code",
   "execution_count": 33,
   "metadata": {},
   "outputs": [],
   "source": [
    "from MinHeap import MinHeap\n",
    "\n",
    "def build_huffman_tree(priority_queue: MinHeap) -> Node:\n",
    "    if priority_queue.size() == 1:\n",
    "        son = priority_queue.pop()\n",
    "        root = Node(son.frequency, son.letters, son, son)\n",
    "        return root\n",
    "    while priority_queue.size() > 1:\n",
    "        smallest = priority_queue.pop()\n",
    "        second_smallest = priority_queue.pop()\n",
    "        new_node = Node(frequency = smallest.frequency + second_smallest.frequency, \n",
    "                        letters = smallest.letters | second_smallest.letters, \n",
    "                        left = smallest, \n",
    "                        right = second_smallest)\n",
    "        priority_queue.push(new_node)\n",
    "    root = priority_queue.pop()\n",
    "    return root"
   ]
  },
  {
   "cell_type": "code",
   "execution_count": 34,
   "metadata": {},
   "outputs": [],
   "source": [
    "def encode_one_symbol(char: str, root: Node) -> str:\n",
    "    encoded_s = ''\n",
    "    node = root\n",
    "    while not node.is_leaf():\n",
    "        if char in node.left.letters:\n",
    "            node = node.left\n",
    "            encoded_s += '0'\n",
    "        else:\n",
    "            node = node.right\n",
    "            encoded_s += '1'\n",
    "    return encoded_s\n",
    "\n",
    "\n",
    "def encode(s: str, root: Node) -> str:\n",
    "    \"\"\"Encode the input string s using the Huffman tree rooted at root.\"\"\"\n",
    "    encoded_s = ''\n",
    "    for char in s:\n",
    "        encoded_s += encode_one_symbol(char, root)\n",
    "    return encoded_s\n",
    "\n",
    "\n",
    "def decode(encoded_s: str, root: Node) -> str:\n",
    "    \"\"\"Decode the encoded string using the Huffman tree rooted at root.\"\"\"\n",
    "    decoded_s = ''\n",
    "    iter_s = iter(encoded_s)\n",
    "    node = root\n",
    "    try:\n",
    "        while True:\n",
    "            if not node.is_leaf():\n",
    "                node = node.left if next(iter_s) == '0' else node.right\n",
    "            else:\n",
    "                decoded_s += next(iter(node.letters))  # get the only letter of the node\n",
    "                node = root\n",
    "    except StopIteration:\n",
    "        return decoded_s"
   ]
  },
  {
   "cell_type": "code",
   "execution_count": 35,
   "metadata": {},
   "outputs": [],
   "source": [
    "from collections import defaultdict\n",
    "\n",
    "def get_symbol_frequencies(s: str) -> dict[str, int]:\n",
    "    \"\"\"Get the frequency of each symbol in the input string.\"\"\"\n",
    "    frequencies = defaultdict(int)\n",
    "    for char in s:\n",
    "        frequencies[char] += 1\n",
    "    return frequencies"
   ]
  },
  {
   "cell_type": "code",
   "execution_count": 36,
   "metadata": {},
   "outputs": [],
   "source": [
    "def read_input() -> str:\n",
    "    \"\"\"Read input from file\"\"\"\n",
    "    with open('../assets/huffman_code_input.txt', encoding='utf-8') as f:\n",
    "        # sys.stdin = f\n",
    "        return f.readline().strip()"
   ]
  },
  {
   "cell_type": "code",
   "execution_count": 37,
   "metadata": {},
   "outputs": [
    {
     "name": "stdout",
     "output_type": "stream",
     "text": [
      "String: abacabad\n",
      "\n",
      "Frequencies: defaultdict(<class 'int'>, {'a': 4, 'b': 2, 'c': 1, 'd': 1})\n",
      "\n",
      "Nodes:\n",
      "node = Node(frequency=4, letters={'a'}, left=None, right=None)\n",
      "node = Node(frequency=2, letters={'b'}, left=None, right=None)\n",
      "node = Node(frequency=1, letters={'c'}, left=None, right=None)\n",
      "node = Node(frequency=1, letters={'d'}, left=None, right=None)\n",
      "\n",
      "Huffman tree:  root = Node(frequency=8, letters={'c', 'd', 'b', 'a'}, left=Node(frequency=4, letters={'a'}, left=None, right=None), right=Node(frequency=4, letters={'d', 'c', 'b'}, left=Node(frequency=2, letters={'b'}, left=None, right=None), right=Node(frequency=2, letters={'c', 'd'}, left=Node(frequency=1, letters={'c'}, left=None, right=None), right=Node(frequency=1, letters={'d'}, left=None, right=None))))\n"
     ]
    }
   ],
   "source": [
    "s = read_input()\n",
    "print(f\"String: {s}\")\n",
    "frequencies = get_symbol_frequencies(s)\n",
    "print(f\"\\nFrequencies: {frequencies}\")\n",
    "\n",
    "nodes = [Node(frequency, set(char), None, None) for char, frequency in frequencies.items()]\n",
    "print(f\"\\nNodes:\")\n",
    "\n",
    "priority_queue = MinHeap()\n",
    "for node in nodes:\n",
    "    print(f\"{node = }\")\n",
    "    priority_queue.push(node)\n",
    "\n",
    "root = build_huffman_tree(priority_queue)\n",
    "print(f\"\\nHuffman tree:  {root = }\")"
   ]
  },
  {
   "cell_type": "code",
   "execution_count": 38,
   "metadata": {},
   "outputs": [
    {
     "data": {
      "image/png": "[encoded data removed]",
      "text/plain": [
       "<Figure size 640x480 with 1 Axes>"
      ]
     },
     "metadata": {},
     "output_type": "display_data"
    }
   ],
   "source": [
    "from draw_tree import draw_tree\n",
    "adjacency_dict = Node.get_adjacency_dict(root)\n",
    "draw_tree(adjacency_dict)"
   ]
  },
  {
   "cell_type": "code",
   "execution_count": 39,
   "metadata": {},
   "outputs": [
    {
     "name": "stdout",
     "output_type": "stream",
     "text": [
      "4 14\n",
      "a: 0\n",
      "b: 10\n",
      "c: 110\n",
      "d: 111\n",
      "01001100100111\n"
     ]
    }
   ],
   "source": [
    "encoded_s = encode(s, root)\n",
    "decoded_s = decode(encoded_s, root)\n",
    "# print(decoded_s)\n",
    "\n",
    "print(f\"{len(frequencies)} {len(encoded_s)}\")\n",
    "\n",
    "for char, _ in frequencies.items():\n",
    "    print(f\"{char}: {encode_one_symbol(char, root)}\")\n",
    "\n",
    "print(encoded_s)"
   ]
  }
 ],
 "metadata": {
  "kernelspec": {
   "display_name": "win_env",
   "language": "python",
   "name": "python3"
  },
  "language_info": {
   "codemirror_mode": {
    "name": "ipython",
    "version": 3
   },
   "file_extension": ".py",
   "mimetype": "text/x-python",
   "name": "python",
   "nbconvert_exporter": "python",
   "pygments_lexer": "ipython3",
   "version": "3.13.1"
  }
 },
 "nbformat": 4,
 "nbformat_minor": 2
}
